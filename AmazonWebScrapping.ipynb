{
  "nbformat": 4,
  "nbformat_minor": 0,
  "metadata": {
    "colab": {
      "provenance": []
    },
    "kernelspec": {
      "name": "python3",
      "display_name": "Python 3"
    },
    "language_info": {
      "name": "python"
    }
  },
  "cells": [
    {
      "cell_type": "code",
      "source": [
        "from bs4 import BeautifulSoup\n",
        "import requests\n",
        "import time\n",
        "import datetime\n",
        "\n",
        "import smtplib"
      ],
      "metadata": {
        "id": "5Z7C60gTOsPT"
      },
      "execution_count": null,
      "outputs": []
    },
    {
      "cell_type": "code",
      "execution_count": null,
      "metadata": {
        "id": "t76NNlREOoMS"
      },
      "outputs": [],
      "source": [
        "URL = 'https://www.amazon.in/Oppo-Bluetooth-Wireless-Charging-Moonlight/dp/B0C1YWPYPS/ref=sr_1_4?nsdOptOutParam=true&sr=8-4'\n",
        "headers = {\"User-Agent\": \"Mozilla/5.0 (Windows NT 10.0; Win64; x64) AppleWebKit/537.36 (KHTML, like Gecko) Chrome/130.0.0.0 Safari/537.36\", \"Accept-Encoding\":\"gzip, deflate\", \"Accept\":\"text/html,application/xhtml+xml,application/xml;q=0.9,*/*;q=0.8\", \"DNT\":\"1\",\"Connection\":\"close\", \"Upgrade-Insecure-Requests\":\"1\"}\n",
        "page = requests.get(URL, headers=headers)\n",
        "\n",
        "soup1 = BeautifulSoup(page.content, \"html.parser\")\n",
        "soup2 = BeautifulSoup(soup1.prettify(), \"html.parser\")\n",
        "title = soup2.find(id='productTitle')\n"
      ]
    },
    {
      "cell_type": "code",
      "source": [
        "title = title.get_text().strip()\n",
        "print(title)"
      ],
      "metadata": {
        "id": "5PEmn9GFO5Ll",
        "colab": {
          "base_uri": "https://localhost:8080/"
        },
        "outputId": "2af573a6-1259-40ea-ac0e-74dab0067c1c"
      },
      "execution_count": null,
      "outputs": [
        {
          "output_type": "stream",
          "name": "stdout",
          "text": [
            "Oppo Enco Air2i Bluetooth Truly Wireless in-Ear Earbuds with Mic, Fast Charging & Up to 28Hrs Battery -Moonlight\n"
          ]
        }
      ]
    },
    {
      "cell_type": "code",
      "source": [
        "import re\n",
        "price = soup2.find(class_='a-price-whole').get_text()\n",
        "price = re.sub(r'\\s+', '', price) #using regular expression to remove more than one whitespace character\n",
        "price = price.strip('. ')\n",
        "print(price)"
      ],
      "metadata": {
        "colab": {
          "base_uri": "https://localhost:8080/"
        },
        "id": "UkBD-Jj5bJun",
        "outputId": "062d518c-8885-45ec-8d3b-af578bb9cc72"
      },
      "execution_count": null,
      "outputs": [
        {
          "output_type": "stream",
          "name": "stdout",
          "text": [
            "1,399\n"
          ]
        }
      ]
    },
    {
      "cell_type": "code",
      "source": [
        "# Create a Timestamp for your output to track when data was collected\n",
        "today = datetime.date.today()\n",
        "print(today)"
      ],
      "metadata": {
        "colab": {
          "base_uri": "https://localhost:8080/"
        },
        "id": "gICbNUamSXtg",
        "outputId": "d3d41421-932b-4fa5-87cd-4d85d9f0b30d"
      },
      "execution_count": null,
      "outputs": [
        {
          "output_type": "stream",
          "name": "stdout",
          "text": [
            "2024-10-30\n"
          ]
        }
      ]
    },
    {
      "cell_type": "code",
      "source": [
        "# Create CSV and write headers and data into the file\n",
        "\n",
        "import csv\n",
        "\n",
        "header = ['Title', 'Price', 'Date']\n",
        "data = [title, price, today]\n",
        "\n",
        "with open('AmazonWebScraperDataset.csv', 'w', newline='', encoding='UTF8') as f:\n",
        "\n",
        "    writer = csv.writer(f)\n",
        "    writer.writerow(header)\n",
        "    writer.writerow(data)"
      ],
      "metadata": {
        "id": "_T_i-B5dSd-z"
      },
      "execution_count": null,
      "outputs": []
    },
    {
      "cell_type": "code",
      "source": [
        "import pandas as pd\n",
        "\n",
        "df = pd.read_csv(r'/content/AmazonWebScraperDataset.csv')\n",
        "\n",
        "print(df)"
      ],
      "metadata": {
        "colab": {
          "base_uri": "https://localhost:8080/"
        },
        "id": "WAc548boV1xO",
        "outputId": "c47f1c43-9a64-4469-a358-ecefd623f00f"
      },
      "execution_count": null,
      "outputs": [
        {
          "output_type": "stream",
          "name": "stdout",
          "text": [
            "                                               Title  Price        Date\n",
            "0  Oppo Enco Air2i Bluetooth Truly Wireless in-Ea...  1,399  2024-10-30\n",
            "1  Oppo Enco Air2i Bluetooth Truly Wireless in-Ea...  1,399  2024-10-30\n",
            "2  Oppo Enco Air2i Bluetooth Truly Wireless in-Ea...  1,399  2024-10-30\n"
          ]
        }
      ]
    },
    {
      "cell_type": "code",
      "source": [
        "#Now we are appending data to the csv\n",
        "\n",
        "with open('AmazonWebScraperDataset.csv', 'a+', newline='', encoding='UTF8') as f:\n",
        "    writer = csv.writer(f)\n",
        "    writer.writerow(data)"
      ],
      "metadata": {
        "id": "Tv2uphqcyb4s"
      },
      "execution_count": null,
      "outputs": []
    },
    {
      "cell_type": "code",
      "source": [
        "#Combine all of the above code into one function\n",
        "\n",
        "\n",
        "def check_price():\n",
        "    URL = 'https://www.amazon.in/Oppo-Bluetooth-Wireless-Charging-Moonlight/dp/B0C1YWPYPS/ref=sr_1_4?nsdOptOutParam=true&sr=8-4'\n",
        "    headers = {\"User-Agent\": \"Mozilla/5.0 (Windows NT 10.0; Win64; x64) AppleWebKit/537.36 (KHTML, like Gecko) Chrome/130.0.0.0 Safari/537.36\", \"Accept-Encoding\":\"gzip, deflate\", \"Accept\":\"text/html,application/xhtml+xml,application/xml;q=0.9,*/*;q=0.8\", \"DNT\":\"1\",\"Connection\":\"close\", \"Upgrade-Insecure-Requests\":\"1\"}\n",
        "    page = requests.get(URL, headers=headers)\n",
        "    soup1 = BeautifulSoup(page.content, \"html.parser\")\n",
        "    soup2 = BeautifulSoup(soup1.prettify(), \"html.parser\")\n",
        "    title = soup2.find(id='productTitle')\n",
        "\n",
        "    title = title.get_text().strip()\n",
        "\n",
        "    import re\n",
        "    price = soup2.find(class_='a-price-whole').get_text()\n",
        "    price = re.sub(r'\\s+', '', price)\n",
        "    price = price.strip('. ')\n",
        "\n",
        "    import datetime\n",
        "    today = datetime.date.today()\n",
        "\n",
        "    import csv\n",
        "    header = ['Title', 'Price', 'Date']\n",
        "    data = [title, price, today]\n",
        "\n",
        "    with open('AmazonWebScraperDataset.csv', 'a+', newline='', encoding='UTF8') as f:\n",
        "\n",
        "        writer = csv.writer(f)\n",
        "        writer.writerow(data)\n",
        "\n"
      ],
      "metadata": {
        "id": "At9NOMg7yqgw"
      },
      "execution_count": null,
      "outputs": []
    },
    {
      "cell_type": "code",
      "source": [
        "# Runs check_price after a set time and inputs data into your CSV\n",
        "while(True):\n",
        "  check_price()\n",
        "  time.sleep(86400)"
      ],
      "metadata": {
        "id": "gQfB1yCl7AdN"
      },
      "execution_count": null,
      "outputs": []
    },
    {
      "cell_type": "code",
      "source": [
        "import pandas as pd\n",
        "\n",
        "df = pd.read_csv(r'/content/AmazonWebScraperDataset.csv')\n",
        "\n",
        "print(df)"
      ],
      "metadata": {
        "colab": {
          "base_uri": "https://localhost:8080/"
        },
        "id": "qNirBglz8DuP",
        "outputId": "c4509461-f117-40e1-da3d-065c0848831d"
      },
      "execution_count": null,
      "outputs": [
        {
          "output_type": "stream",
          "name": "stdout",
          "text": [
            "                                               Title  Price        Date\n",
            "0  Oppo Enco Air2i Bluetooth Truly Wireless in-Ea...  1,399  2024-10-30\n",
            "1  Oppo Enco Air2i Bluetooth Truly Wireless in-Ea...  1,399  2024-10-30\n",
            "2  Oppo Enco Air2i Bluetooth Truly Wireless in-Ea...  1,399  2024-10-30\n",
            "3  Oppo Enco Air2i Bluetooth Truly Wireless in-Ea...  1,399  2024-10-30\n",
            "4  Oppo Enco Air2i Bluetooth Truly Wireless in-Ea...  1,399  2024-10-30\n"
          ]
        }
      ]
    }
  ]
}